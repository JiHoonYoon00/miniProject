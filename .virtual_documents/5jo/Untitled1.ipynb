import pandas as pd
import numpy as np
df = pd.read_csv("data/bjd_info_except_boundary.csv",encoding='cp949')
df


df = df[df['sd_nm']=='서울특별시']


df = df[['emd_nm','center_long','center_lati']]


df.rename(columns={'emd_nm': 'BJDONG_NM'}, inplace=True)
df.rename(columns={'center_long': 'CENTER_LONG'}, inplace=True)
df.rename(columns={'center_lati': 'CENTER_LATI'}, inplace=True)



df


df.to_csv('BJDONG_NM.csv', index=False, encoding='utf-8')



