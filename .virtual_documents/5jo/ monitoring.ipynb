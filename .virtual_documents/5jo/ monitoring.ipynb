import pandas as pd
import numpy as np


df = pd.read_csv("data/processed_full_data.csv")
bum= pd.read_csv("BJDONG_NM.csv")


bum1=bum[['BJDONG_NM', 'CENTER_LONG', 'CENTER_LATI']]
bum1=bum1.drop_duplicates().reset_index(drop=True)
bum1


dong = df['BJDONG_NM'].unique()

# 결과를 저장할 빈 데이터프레임 생성
results_df = pd.DataFrame()

# 각 동에 대해 반복
for dong_name in dong:
    
    dong_df = df.loc[df['BJDONG_NM'] == dong_name, :]
    me = dong_df.groupby('HOUSE_TYPE')['PRICE_PER'].mean().reset_index()
    me['BJDONG_NM'] = dong_name  # 동 이름 추가
    results_df = pd.concat([results_df, me], ignore_index=True)

# 최종 결과 출력
results_df


dan=results_df[results_df['HOUSE_TYPE']=='단독다가구']
dan


dandok = pd.merge(dan, bum1, on='BJDONG_NM', how='left')


dandok.to_csv('dandok.csv', index=False, encoding='utf-8')


data


df['SGG_NM'].unique()


gangbuk = df.loc[df['SGG_NM']=='강북구',:]
gangbuk.groupby('HOUSE_TYPE')['PRICE_PER'].mean()


gangbuk.groupby('HOUSE_TYPE')['PRICE_PER'].mean()


data = {
    'House_Type': ['단독다가구', '아파트', '연립다세대', '오피스텔'],
    'Value': [1896.405107, 2949.369926, 1698.954434, 1921.627272],
    'lat': [37.637, 37.6385, 37.64, 37.6415],  # 막대의 위치 조정으로 간격 증가
    'lon': [127.023, 127.0245, 127.026, 127.0275],
    # 각 주택 유형별로 다른 색상 및 투명도 조정 (RGBA 형식)
    'color': [[255, 0, 0, 120], [0, 255, 0, 120], [0, 0, 255, 120], [255, 255, 0, 120]]
}

df = pd.DataFrame(data)


df


data = {
    'District': ['종로구', '중구', '용산구', '성동구', '광진구', '동대문구', '중랑구', '성북구', '강북구', '도봉구', '노원구', '은평구', '서대문구', '마포구', '양천구', '강서구', '구로구', '금천구', '영등포구', '동작구', '관악구', '서초구', '강남구', '송파구', '강동구'],
    'lat': [37.573, 37.564, 37.538, 37.563, 37.538, 37.574, 37.606, 37.589, 37.640, 37.654, 37.654, 37.602, 37.579, 37.551, 37.516, 37.560, 37.495, 37.456, 37.526, 37.512, 37.478, 37.483, 37.517, 37.514, 37.530],
    'lon': [126.979, 126.997, 126.941, 127.037, 127.083, 127.039, 127.093, 127.016, 127.025, 127.029, 127.056, 126.929, 126.936, 126.901, 126.866, 126.814, 126.889, 126.897, 126.907, 126.941, 126.951, 127.032, 127.047, 127.106, 127.123],
    'Value': [np.random.randint(100, 1000) for _ in range(25)],  # 임의의 데이터 값
}

df = pd.DataFrame(data)
df



