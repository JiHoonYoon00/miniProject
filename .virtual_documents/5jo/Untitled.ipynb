import pandas as pd
import numpy as np


df = pd.read_csv("data/selected_data_with_price_per_pyung.csv")
dong = pd.read_csv("data/processed_full_data.csv", encoding='cp949')
df


emd_df = dong[['center_long','center_lati','emd_nm']]


emd_df.rename(columns={'emd_nm': 'BJDONG_NM'}, inplace=True)


emd_df


df


full_data= pd.merge(df, emd_df, on='BJDONG_NM', how='inner')


full_data


full_data.to_csv('full_data.csv', index=False, encoding='utf-8')



